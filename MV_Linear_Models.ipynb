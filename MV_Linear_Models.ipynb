{
 "cells": [
  {
   "cell_type": "markdown",
   "metadata": {},
   "source": [
    "## The purpose of this notebook is to predict the Human Development Index for each nation in the next 5 years, better than a baseline guess. Baseline guesses assign a HDI value to a nation's next 5 years based on it's HDI performance in the last 5 years."
   ]
  },
  {
   "cell_type": "code",
   "execution_count": 42,
   "metadata": {},
   "outputs": [],
   "source": [
    "import pandas as pd\n",
    "import numpy as np\n",
    "from sklearn.metrics import mean_squared_error\n",
    "from sklearn.pipeline import make_pipeline\n",
    "from sklearn.preprocessing import PolynomialFeatures\n",
    "from sklearn.linear_model import LinearRegression\n"
   ]
  },
  {
   "cell_type": "code",
   "execution_count": 43,
   "metadata": {},
   "outputs": [],
   "source": [
    "import plotly.express as px"
   ]
  },
  {
   "cell_type": "code",
   "execution_count": 44,
   "metadata": {},
   "outputs": [],
   "source": [
    "train = pd.read_csv('https://raw.githubusercontent.com/ddodds42/DS_Unit_2_Build_DAVID_DODDS/master/train_github.csv')\n",
    "val = pd.read_csv('https://raw.githubusercontent.com/ddodds42/DS_Unit_2_Build_DAVID_DODDS/master/val_github.csv')\n",
    "test = pd.read_csv('https://raw.githubusercontent.com/ddodds42/DS_Unit_2_Build_DAVID_DODDS/master/test_github.csv')"
   ]
  },
  {
   "cell_type": "markdown",
   "metadata": {},
   "source": [
    "## Columns named T_HDI_ are targets measuring the Human Development Index for a nation state in the next 5 years. T_HDI_mean is the mean of the HDI in the next 5 years, a value from 0 to 1, 1 being highest level of human development, and 0 being the lowest. It is a continuous variable that must be regressed. T_HDI_Trend is also a continuous variable, representing the slope of the best fit trendline for the growth (or negative growth) of a nation's HDI in the next 5 years."
   ]
  },
  {
   "cell_type": "code",
   "execution_count": 45,
   "metadata": {},
   "outputs": [
    {
     "data": {
      "text/plain": [
       "Index(['NS_code_from_gini', 'Nation_State', 'T_HDI_Mean_plus_5',\n",
       "       'T_HDI_Trend_plus_5', 'T_State_Fail_yr_1', 'T_State_Fail_plus_5',\n",
       "       'T_State_Fail_yr_5', 'year0', 'CWGI_Poli_Stabl_Mean_minus_4',\n",
       "       'CWGI_Poli_Stabl_Trend_minus_4', 'CWGI_RoL_Mean_minus_4',\n",
       "       'CWGI_RoL_Trend_minus_4', 'E_GINI_Mean_minus_4', 'E_GINI_Trend_minus_4',\n",
       "       'PCPI_std_Mean_minus_4', 'PCPI_std_Trend_minus_4',\n",
       "       'PWGI_Corrupt_Ctrl_Mean_minus_4', 'PWGI_Corrupt_Ctrl_Trend_minus_4',\n",
       "       'PWGI_Voice_Acct_Mean_minus_4', 'PWGI_Voice_Acct_Trend_minus_4'],\n",
       "      dtype='object')"
      ]
     },
     "execution_count": 45,
     "metadata": {},
     "output_type": "execute_result"
    }
   ],
   "source": [
    "train.columns"
   ]
  },
  {
   "cell_type": "code",
   "execution_count": 46,
   "metadata": {},
   "outputs": [],
   "source": [
    "features = ['NS_code_from_gini', 'year0', 'CWGI_Poli_Stabl_Mean_minus_4',\n",
    "       'CWGI_Poli_Stabl_Trend_minus_4', 'CWGI_RoL_Mean_minus_4',\n",
    "       'CWGI_RoL_Trend_minus_4', 'E_GINI_Mean_minus_4', 'E_GINI_Trend_minus_4',\n",
    "       'PCPI_std_Mean_minus_4', 'PCPI_std_Trend_minus_4',\n",
    "       'PWGI_Corrupt_Ctrl_Mean_minus_4', 'PWGI_Corrupt_Ctrl_Trend_minus_4',\n",
    "       'PWGI_Voice_Acct_Mean_minus_4', 'PWGI_Voice_Acct_Trend_minus_4']\n",
    "target = 'T_HDI_Trend_plus_5'"
   ]
  },
  {
   "cell_type": "code",
   "execution_count": 47,
   "metadata": {},
   "outputs": [],
   "source": [
    "X_train = train[features]\n",
    "X_val = val[features]\n",
    "X_test = test[features]\n",
    "\n",
    "y_train = train[target]\n",
    "y_val = val[target]\n",
    "y_test = test[target]"
   ]
  },
  {
   "cell_type": "code",
   "execution_count": 48,
   "metadata": {},
   "outputs": [],
   "source": [
    "import category_encoders as ce\n",
    "encoder = ce.OrdinalEncoder()\n",
    "X_train_enc = encoder.fit_transform(X_train)\n",
    "X_val_enc = encoder.transform(X_val)\n",
    "X_test_enc = encoder.transform(X_test)"
   ]
  },
  {
   "cell_type": "code",
   "execution_count": 49,
   "metadata": {},
   "outputs": [],
   "source": [
    "model = LinearRegression()"
   ]
  },
  {
   "cell_type": "code",
   "execution_count": 50,
   "metadata": {},
   "outputs": [
    {
     "data": {
      "text/plain": [
       "(0.0038986284876035295, 0.004283424284520843)"
      ]
     },
     "execution_count": 50,
     "metadata": {},
     "output_type": "execute_result"
    }
   ],
   "source": [
    "model.fit(X_train_enc, y_train)\n",
    "y_pred_train = model.predict(X_train_enc)\n",
    "train_rmse = (mean_squared_error(y_train, y_pred_train))**0.5\n",
    "\n",
    "y_pred_val = model.predict(X_val_enc)\n",
    "val_rmse = (mean_squared_error(y_val, y_pred_val))**0.5\n",
    "\n",
    "train_rmse, val_rmse"
   ]
  },
  {
   "cell_type": "markdown",
   "metadata": {},
   "source": [
    "## ^^ Multiple regression with all features beats baseline for predicting the HDI Trend (prosperity growth) of the next 5 years."
   ]
  },
  {
   "cell_type": "code",
   "execution_count": 51,
   "metadata": {},
   "outputs": [],
   "source": [
    "from sklearn.feature_selection import SelectKBest, f_regression"
   ]
  },
  {
   "cell_type": "code",
   "execution_count": 52,
   "metadata": {},
   "outputs": [
    {
     "data": {
      "text/plain": [
       "((3238, 14), (695, 14))"
      ]
     },
     "execution_count": 52,
     "metadata": {},
     "output_type": "execute_result"
    }
   ],
   "source": [
    "selector = SelectKBest(score_func=f_regression, k='all')\n",
    "X_train_select = selector.fit_transform(X_train_enc, y_train)\n",
    "X_val_select = selector.transform(X_val_enc)\n",
    "X_train_select.shape, X_val_select.shape"
   ]
  },
  {
   "cell_type": "code",
   "execution_count": 53,
   "metadata": {},
   "outputs": [
    {
     "name": "stdout",
     "output_type": "stream",
     "text": [
      "1 features:\n",
      "Val rmse = 0.0042837234681400715 \n",
      "\n",
      "2 features:\n",
      "Val rmse = 0.00428096818194612 \n",
      "\n",
      "3 features:\n",
      "Val rmse = 0.004280836996587156 \n",
      "\n",
      "4 features:\n",
      "Val rmse = 0.004274349556968233 \n",
      "\n",
      "5 features:\n",
      "Val rmse = 0.004277890649460947 \n",
      "\n",
      "6 features:\n",
      "Val rmse = 0.004277982532160086 \n",
      "\n",
      "7 features:\n",
      "Val rmse = 0.004278777291598398 \n",
      "\n",
      "8 features:\n",
      "Val rmse = 0.004280949008836787 \n",
      "\n",
      "9 features:\n",
      "Val rmse = 0.004281365379496371 \n",
      "\n",
      "10 features:\n",
      "Val rmse = 0.004281539099530139 \n",
      "\n",
      "11 features:\n",
      "Val rmse = 0.004283842816813121 \n",
      "\n",
      "12 features:\n",
      "Val rmse = 0.004284312094287293 \n",
      "\n",
      "13 features:\n",
      "Val rmse = 0.004283430955818824 \n",
      "\n",
      "14 features:\n",
      "Val rmse = 0.004283424284520843 \n",
      "\n"
     ]
    }
   ],
   "source": [
    "# For Val set\n",
    "\n",
    "for k in range(1, len(X_train.columns)+1):\n",
    "  print(f'{k} features:')\n",
    "\n",
    "  selector = SelectKBest(score_func=f_regression, k=k)\n",
    "  X_train_select = selector.fit_transform(X_train_enc, y_train)\n",
    "  X_val_select = selector.transform(X_val_enc)\n",
    "\n",
    "  model = LinearRegression()\n",
    "  model.fit(X_train_select, y_train)\n",
    "  y_pred = model.predict(X_val_select)\n",
    "  rmse = (mean_squared_error(y_val, y_pred))**0.5\n",
    "  print(f'Val rmse = {rmse} \\n')"
   ]
  },
  {
   "cell_type": "code",
   "execution_count": 54,
   "metadata": {},
   "outputs": [],
   "source": [
    "# k=4, 0.004274349557657845"
   ]
  },
  {
   "cell_type": "code",
   "execution_count": 55,
   "metadata": {},
   "outputs": [
    {
     "data": {
      "text/plain": [
       "Index(['NS_code_from_gini', 'year0', 'CWGI_Poli_Stabl_Mean_minus_4',\n",
       "       'CWGI_Poli_Stabl_Trend_minus_4', 'CWGI_RoL_Mean_minus_4',\n",
       "       'CWGI_RoL_Trend_minus_4', 'E_GINI_Mean_minus_4', 'E_GINI_Trend_minus_4',\n",
       "       'PCPI_std_Mean_minus_4', 'PCPI_std_Trend_minus_4',\n",
       "       'PWGI_Corrupt_Ctrl_Mean_minus_4', 'PWGI_Corrupt_Ctrl_Trend_minus_4',\n",
       "       'PWGI_Voice_Acct_Mean_minus_4', 'PWGI_Voice_Acct_Trend_minus_4'],\n",
       "      dtype='object')"
      ]
     },
     "execution_count": 55,
     "metadata": {},
     "output_type": "execute_result"
    }
   ],
   "source": [
    "X_train_enc.columns"
   ]
  },
  {
   "cell_type": "code",
   "execution_count": 56,
   "metadata": {},
   "outputs": [
    {
     "data": {
      "text/plain": [
       "[6.671297981056257e-09,\n",
       " 5.86780649405351e-06,\n",
       " 2.9990400949248333e-06,\n",
       " -2.839935543175187e-06,\n",
       " -1.0549676104990025e-06,\n",
       " -6.042923564415423e-07,\n",
       " -1.3670514841506581e-06,\n",
       " -4.5505252433634263e-07,\n",
       " -9.243690453873687e-07,\n",
       " -3.4491208623747827e-07,\n",
       " 2.88987272977978e-07,\n",
       " -1.3873577517850566e-06,\n",
       " -4.009877592383443e-08,\n",
       " 8.921758171158076e-07]"
      ]
     },
     "execution_count": 56,
     "metadata": {},
     "output_type": "execute_result"
    }
   ],
   "source": [
    "importances = []\n",
    "\n",
    "for col in X_train_enc.columns:\n",
    "    X_train_drop = X_train_enc.drop(columns = col)\n",
    "    X_val_drop = X_val_enc.drop(columns = col)\n",
    "    \n",
    "    model.fit(X_train_drop, y_train)\n",
    "    y_pred_val = model.predict(X_val_drop)\n",
    "    val_drop_rmse = (mean_squared_error(y_val, y_pred_val))**0.5\n",
    "\n",
    "    dci = val_drop_rmse - val_rmse\n",
    "    importances.append(dci)\n",
    "    \n",
    "importances"
   ]
  },
  {
   "cell_type": "code",
   "execution_count": 57,
   "metadata": {},
   "outputs": [
    {
     "data": {
      "image/png": "[encoded data removed]",
      "text/plain": [
       "<Figure size 720x504 with 1 Axes>"
      ]
     },
     "metadata": {
      "needs_background": "light"
     },
     "output_type": "display_data"
    }
   ],
   "source": [
    "import matplotlib.pyplot as plt\n",
    "%matplotlib inline\n",
    "\n",
    "importante = pd.Series(importances, X_train_enc.columns)\n",
    "\n",
    "n = 14\n",
    "plt.figure(figsize=(10, n/2))\n",
    "plt.title(f'HDI Trend Feature Importances')\n",
    "importante.sort_values().plot.barh();"
   ]
  },
  {
   "cell_type": "markdown",
   "metadata": {},
   "source": [
    "## ^^ Only the top 4 features improve a multiple regression to predict the next 5 years of HDI change: the year, the mean political stablity index, the mean voice and accountability index, and the mean corruption control index."
   ]
  },
  {
   "cell_type": "code",
   "execution_count": 58,
   "metadata": {},
   "outputs": [
    {
     "data": {
      "text/plain": [
       "((3238, 4), (695, 4))"
      ]
     },
     "execution_count": 58,
     "metadata": {},
     "output_type": "execute_result"
    }
   ],
   "source": [
    "selector = SelectKBest(score_func=f_regression, k=4)\n",
    "X_train_select = selector.fit_transform(X_train_enc, y_train)\n",
    "X_val_select = selector.transform(X_val_enc)\n",
    "X_train_select.shape, X_val_select.shape"
   ]
  },
  {
   "cell_type": "code",
   "execution_count": 59,
   "metadata": {},
   "outputs": [
    {
     "name": "stdout",
     "output_type": "stream",
     "text": [
      "Features selected:\n",
      "year0\n",
      "CWGI_Poli_Stabl_Mean_minus_4\n",
      "CWGI_RoL_Mean_minus_4\n",
      "PWGI_Corrupt_Ctrl_Mean_minus_4\n",
      "\n",
      " Features excluded:\n",
      "NS_code_from_gini\n",
      "CWGI_Poli_Stabl_Trend_minus_4\n",
      "CWGI_RoL_Trend_minus_4\n",
      "E_GINI_Mean_minus_4\n",
      "E_GINI_Trend_minus_4\n",
      "PCPI_std_Mean_minus_4\n",
      "PCPI_std_Trend_minus_4\n",
      "PWGI_Corrupt_Ctrl_Trend_minus_4\n",
      "PWGI_Voice_Acct_Mean_minus_4\n",
      "PWGI_Voice_Acct_Trend_minus_4\n"
     ]
    }
   ],
   "source": [
    "selected_mask = selector.get_support()\n",
    "all_names = X_train.columns\n",
    "selected_names = all_names[selected_mask]\n",
    "excluded_names = all_names[~selected_mask]\n",
    "\n",
    "print('Features selected:')\n",
    "for name in selected_names:\n",
    "  print(name)\n",
    "\n",
    "print('\\n Features excluded:')\n",
    "for name in excluded_names:\n",
    "  print(name)"
   ]
  },
  {
   "cell_type": "markdown",
   "metadata": {},
   "source": [
    "## ^^ PREDICTING T_HDI_Trend_plus_5 using SelectKBest. The best Validation RMSE I am able to get with SelectKBest, with an optimal number of features at k=4, is 0.00427435. That's just over 12% better than the baseline. ^^"
   ]
  },
  {
   "cell_type": "code",
   "execution_count": 60,
   "metadata": {},
   "outputs": [],
   "source": [
    "from sklearn.linear_model import RidgeCV, Ridge"
   ]
  },
  {
   "cell_type": "code",
   "execution_count": 61,
   "metadata": {},
   "outputs": [],
   "source": [
    "target0 = 'T_HDI_Mean_plus_5'"
   ]
  },
  {
   "cell_type": "code",
   "execution_count": 62,
   "metadata": {},
   "outputs": [],
   "source": [
    "y_train0 = train[target0]\n",
    "y_val0 = val[target0]\n",
    "y_test0 = test[target0]"
   ]
  },
  {
   "cell_type": "code",
   "execution_count": 63,
   "metadata": {},
   "outputs": [
    {
     "data": {
      "text/plain": [
       "(0.10354308052273917, 0.10267894930042742)"
      ]
     },
     "execution_count": 63,
     "metadata": {},
     "output_type": "execute_result"
    }
   ],
   "source": [
    "model = LinearRegression()\n",
    "\n",
    "model.fit(X_train_enc, y_train0)\n",
    "y_pred_train = model.predict(X_train_enc)\n",
    "train0_rmse = (mean_squared_error(y_train0, y_pred_train))**0.5\n",
    "\n",
    "y_pred_val = model.predict(X_val_enc)\n",
    "val0_rmse = (mean_squared_error(y_val0, y_pred_val))**0.5\n",
    "\n",
    "train0_rmse, val0_rmse"
   ]
  },
  {
   "cell_type": "code",
   "execution_count": 64,
   "metadata": {},
   "outputs": [
    {
     "data": {
      "text/plain": [
       "((3238, 14), (695, 14))"
      ]
     },
     "execution_count": 64,
     "metadata": {},
     "output_type": "execute_result"
    }
   ],
   "source": [
    "selector = SelectKBest(score_func=f_regression, k='all')\n",
    "X_train_select0 = selector.fit_transform(X_train_enc, y_train0)\n",
    "X_val_select0 = selector.transform(X_val_enc)\n",
    "X_train_select0.shape, X_val_select0.shape"
   ]
  },
  {
   "cell_type": "code",
   "execution_count": 65,
   "metadata": {},
   "outputs": [
    {
     "name": "stdout",
     "output_type": "stream",
     "text": [
      "1 features, HDI mean:\n",
      "Val rmse = 0.11813724220625763 \n",
      "\n",
      "2 features, HDI mean:\n",
      "Val rmse = 0.11747536071415178 \n",
      "\n",
      "3 features, HDI mean:\n",
      "Val rmse = 0.11855806447395206 \n",
      "\n",
      "4 features, HDI mean:\n",
      "Val rmse = 0.11475779170262079 \n",
      "\n",
      "5 features, HDI mean:\n",
      "Val rmse = 0.11450784032707413 \n",
      "\n",
      "6 features, HDI mean:\n",
      "Val rmse = 0.1099749593799776 \n",
      "\n",
      "7 features, HDI mean:\n",
      "Val rmse = 0.1099239589413009 \n",
      "\n",
      "8 features, HDI mean:\n",
      "Val rmse = 0.10406082795134684 \n",
      "\n",
      "9 features, HDI mean:\n",
      "Val rmse = 0.10338289918718797 \n",
      "\n",
      "10 features, HDI mean:\n",
      "Val rmse = 0.10339216356474426 \n",
      "\n",
      "11 features, HDI mean:\n",
      "Val rmse = 0.10308588044057747 \n",
      "\n",
      "12 features, HDI mean:\n",
      "Val rmse = 0.10262130123525222 \n",
      "\n",
      "13 features, HDI mean:\n",
      "Val rmse = 0.10269520796062523 \n",
      "\n",
      "14 features, HDI mean:\n",
      "Val rmse = 0.10267894930042742 \n",
      "\n"
     ]
    }
   ],
   "source": [
    "# For Val set\n",
    "\n",
    "for k in range(1, len(X_train.columns)+1):\n",
    "  print(f'{k} features, HDI mean:')\n",
    "\n",
    "  selector = SelectKBest(score_func=f_regression, k=k)\n",
    "  X_train_select = selector.fit_transform(X_train_enc, y_train0)\n",
    "  X_val_select = selector.transform(X_val_enc)\n",
    "\n",
    "  model = LinearRegression()\n",
    "  model.fit(X_train_select, y_train0)\n",
    "  y_pred = model.predict(X_val_select)\n",
    "  rmse = (mean_squared_error(y_val0, y_pred))**0.5\n",
    "  print(f'Val rmse = {rmse} \\n')"
   ]
  },
  {
   "cell_type": "code",
   "execution_count": 66,
   "metadata": {},
   "outputs": [],
   "source": [
    "# k=12 features, rmse=0.10262130124074219"
   ]
  },
  {
   "cell_type": "code",
   "execution_count": 67,
   "metadata": {},
   "outputs": [
    {
     "name": "stdout",
     "output_type": "stream",
     "text": [
      "Ridge Regression, alpha = -0.0032\n",
      "Validation RMSE: 0.10267620186412724 \n",
      "\n",
      "Ridge Regression, alpha = -0.00325\n",
      "Validation RMSE: 0.10267619990528108 \n",
      "\n",
      "Ridge Regression, alpha = -0.0033\n",
      "Validation RMSE: 0.10267619933194924 \n",
      "\n",
      "Ridge Regression, alpha = -0.0034\n",
      "Validation RMSE: 0.10267620236640675 \n",
      "\n",
      "Ridge Regression, alpha = -0.0035\n",
      "Validation RMSE: 0.10267621101695239 \n",
      "\n"
     ]
    }
   ],
   "source": [
    "for x in [-0.0032, -0.00325, -0.0033, -0.0034, -0.0035]:\n",
    "  print(f'Ridge Regression, alpha = {x}')\n",
    "  model = Ridge(alpha=x, normalize=True)\n",
    "  model.fit(X_train_select, y_train0)\n",
    "  y_pred = model.predict(X_val_select)\n",
    "\n",
    "  rmse = (mean_squared_error(y_val0, y_pred))**0.5\n",
    "  print(f'Validation RMSE: {rmse} \\n')"
   ]
  },
  {
   "cell_type": "markdown",
   "metadata": {},
   "source": [
    "## ^^ PREDICTING T_HDI_Mean_plus_5 using SelectKBest. The best Validation RMSE I am able to get with SelectKBest, with an optimal number of features at k=12, is 0.10262130124074219. That's more than 3 times worse than the baseline. Ridge Regression was unable to improve the score."
   ]
  },
  {
   "cell_type": "code",
   "execution_count": 68,
   "metadata": {},
   "outputs": [
    {
     "name": "stdout",
     "output_type": "stream",
     "text": [
      "Val rmse = 0.10262130123525222 \n",
      "\n"
     ]
    }
   ],
   "source": [
    "selector = SelectKBest(score_func=f_regression, k=12)\n",
    "X_train_select = selector.fit_transform(X_train_enc, y_train0)\n",
    "X_val_select = selector.transform(X_val_enc)\n",
    "\n",
    "model = LinearRegression()\n",
    "model.fit(X_train_select, y_train0)\n",
    "y_pred = model.predict(X_val_select)\n",
    "rmse = (mean_squared_error(y_val0, y_pred))**0.5\n",
    "print(f'Val rmse = {rmse} \\n')"
   ]
  },
  {
   "cell_type": "code",
   "execution_count": 69,
   "metadata": {},
   "outputs": [
    {
     "data": {
      "text/plain": [
       "[0.00027227305478971786,\n",
       " 0.00680453033138545,\n",
       " 0.0005495629642275623,\n",
       " -6.421815913999762e-05,\n",
       " 0.0025117067403495202,\n",
       " 0.000313606992412091,\n",
       " 0.0033418778890554474,\n",
       " 0.000567306102541909,\n",
       " 0.0009133325860845587,\n",
       " 6.067351776983809e-05,\n",
       " 0.00012384565725291619,\n",
       " 1.625866019780431e-05,\n",
       " -0.0006356535498365096,\n",
       " 5.371596780689991e-05]"
      ]
     },
     "execution_count": 69,
     "metadata": {},
     "output_type": "execute_result"
    }
   ],
   "source": [
    "model = LinearRegression()\n",
    "importances0 = []\n",
    "\n",
    "for col in X_train_enc.columns:\n",
    "    X_train_drop = X_train_enc.drop(columns = col)\n",
    "    X_val_drop = X_val_enc.drop(columns = col)\n",
    "    \n",
    "    model.fit(X_train_drop, y_train0)\n",
    "    y_pred_val = model.predict(X_val_drop)\n",
    "    val_drop_rmse = (mean_squared_error(y_val0, y_pred_val))**0.5\n",
    "\n",
    "    dci = val_drop_rmse - val0_rmse\n",
    "    importances0.append(dci)\n",
    "    \n",
    "importances0"
   ]
  },
  {
   "cell_type": "code",
   "execution_count": 70,
   "metadata": {},
   "outputs": [
    {
     "data": {
      "image/png": "[encoded data removed]",
      "text/plain": [
       "<Figure size 720x504 with 1 Axes>"
      ]
     },
     "metadata": {
      "needs_background": "light"
     },
     "output_type": "display_data"
    }
   ],
   "source": [
    "%matplotlib inline\n",
    "\n",
    "importante0 = pd.Series(importances0, X_train_enc.columns)\n",
    "\n",
    "n = 14\n",
    "plt.figure(figsize=(10, n/2))\n",
    "plt.title(f'HDI Mean Feature Importances')\n",
    "importante0.sort_values().plot.barh();"
   ]
  },
  {
   "cell_type": "markdown",
   "metadata": {},
   "source": [
    "## This next cell downloads the feature importances into an excel file for feature importance analysis accross the 5 targets."
   ]
  },
  {
   "cell_type": "code",
   "execution_count": 71,
   "metadata": {},
   "outputs": [],
   "source": [
    "# fia_hdi_trend = pd.DataFrame(importante.sort_values(ascending=False))\n",
    "# fia_hdi_trend.to_excel('fia_trend.xlsx')\n",
    "\n",
    "# fia_hdi_mean = pd.DataFrame(importante0.sort_values(ascending=False))\n",
    "# fia_hdi_mean.to_excel('fia_mean.xlsx')"
   ]
  }
 ],
 "metadata": {
  "kernelspec": {
   "display_name": "Python 3",
   "language": "python",
   "name": "python3"
  },
  "language_info": {
   "codemirror_mode": {
    "name": "ipython",
    "version": 3
   },
   "file_extension": ".py",
   "mimetype": "text/x-python",
   "name": "python",
   "nbconvert_exporter": "python",
   "pygments_lexer": "ipython3",
   "version": "3.7.6"
  }
 },
 "nbformat": 4,
 "nbformat_minor": 4
}
